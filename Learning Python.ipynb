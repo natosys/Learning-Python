{
 "cells": [
  {
   "cell_type": "markdown",
   "metadata": {},
   "source": [
    "# Learning Python\n",
    "## HelloWorld!\n",
    "print function print()"
   ]
  },
  {
   "cell_type": "code",
   "execution_count": 1,
   "metadata": {},
   "outputs": [
    {
     "name": "stdout",
     "output_type": "stream",
     "text": [
      "HelloWorld!\n"
     ]
    }
   ],
   "source": [
    "print(\"HelloWorld!\")"
   ]
  },
  {
   "cell_type": "markdown",
   "metadata": {},
   "source": [
    "## Indentation\n",
    "Is used instead of curly brackets, space or tab works."
   ]
  },
  {
   "cell_type": "code",
   "execution_count": 3,
   "metadata": {},
   "outputs": [
    {
     "name": "stdout",
     "output_type": "stream",
     "text": [
      "x is one\n"
     ]
    }
   ],
   "source": [
    "x = 1\n",
    "if (x == 1):\n",
    "    print(\"x is one\")"
   ]
  },
  {
   "cell_type": "markdown",
   "metadata": {},
   "source": [
    "## Numbers\n",
    "Int and Float are available. They are declared implicitly (Int/Float) and explicitly (Float)."
   ]
  },
  {
   "cell_type": "code",
   "execution_count": 12,
   "metadata": {},
   "outputs": [
    {
     "name": "stdout",
     "output_type": "stream",
     "text": [
      "myint is: 1\n",
      "myfloat implicitly declared is: 1.1\n",
      "myfloat explicitly declared is: 3.1415\n"
     ]
    }
   ],
   "source": [
    "myint = 1\n",
    "print(\"myint is: \" + str(myint))\n",
    "# implicit declaration of a float\n",
    "myfloat = 1.1\n",
    "print(\"myfloat implicitly declared is: \" + str(myfloat))\n",
    "# explicit declaration of a float\n",
    "myfloat = float(3.1415)\n",
    "print(\"myfloat explicitly declared is: \" + str(myfloat))"
   ]
  },
  {
   "cell_type": "markdown",
   "metadata": {},
   "source": [
    "## Strings\n",
    "Strings are implicitly declared. Using double quotes allows the use of single quotes internal to the string without an escape character."
   ]
  },
  {
   "cell_type": "code",
   "execution_count": 14,
   "metadata": {},
   "outputs": [
    {
     "name": "stdout",
     "output_type": "stream",
     "text": [
      "HelloWorld's!\n"
     ]
    }
   ],
   "source": [
    "mystr = \"HelloWorld's!\"\n",
    "print(mystr)"
   ]
  },
  {
   "cell_type": "markdown",
   "metadata": {},
   "source": [
    "## Test Var Type\n",
    "isinstance(var, type) is the function to test the type of a var."
   ]
  },
  {
   "cell_type": "code",
   "execution_count": 16,
   "metadata": {},
   "outputs": [
    {
     "name": "stdout",
     "output_type": "stream",
     "text": [
      "it's a string.\n"
     ]
    }
   ],
   "source": [
    "myvar = \"string\"\n",
    "if(isinstance(myvar, str)):\n",
    "    print(\"it's a string.\")\n",
    "if(isinstance(myvar, int)):\n",
    "    print(\"it's an int\")"
   ]
  },
  {
   "cell_type": "code",
   "execution_count": null,
   "metadata": {
    "collapsed": true
   },
   "outputs": [],
   "source": []
  }
 ],
 "metadata": {
  "kernelspec": {
   "display_name": "Python 3",
   "language": "python",
   "name": "python3"
  },
  "language_info": {
   "codemirror_mode": {
    "name": "ipython",
    "version": 3
   },
   "file_extension": ".py",
   "mimetype": "text/x-python",
   "name": "python",
   "nbconvert_exporter": "python",
   "pygments_lexer": "ipython3",
   "version": "3.6.3"
  }
 },
 "nbformat": 4,
 "nbformat_minor": 2
}
